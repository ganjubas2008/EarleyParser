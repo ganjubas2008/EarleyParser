{
 "cells": [
  {
   "cell_type": "code",
   "execution_count": 5,
   "metadata": {},
   "outputs": [],
   "source": [
    "def is_terminal(char):\n",
    "    return (not char.isupper() and (char != \"$\"))\n",
    "\n",
    "def is_nonterminal(char):\n",
    "    return not is_terminal(char)\n",
    "\n",
    "class Rule:\n",
    "    lhs = \"S\"\n",
    "    rhs = \"\"\n",
    "    def __init__(self, lhs_, rhs_):\n",
    "        self.lhs = lhs_\n",
    "        self.rhs = rhs_\n",
    "        \n",
    "    def __str__(self):\n",
    "        return self.lhs + \"->\" + self.rhs\n",
    "    \n",
    "    def __eq__(self, other):\n",
    "        return self.rhs == other.rhs and self.lhs == other.lhs\n",
    "\n",
    "class Grammar:\n",
    "    def __init__(self, rules_ = {}):\n",
    "        self.rules = rules_\n",
    "    \n",
    "    def add_rule(self, rule):\n",
    "        if rule.lhs not in self.rules:\n",
    "            self.rules[rule.lhs] = set()\n",
    "            \n",
    "        self.rules[rule.lhs] |= {rule.rhs}\n",
    "    \n",
    "    def __str__(self):\n",
    "        return \"\\n\".join([str(rule) for rule in self.rules])"
   ]
  },
  {
   "cell_type": "code",
   "execution_count": 6,
   "metadata": {},
   "outputs": [
    {
     "name": "stdout",
     "output_type": "stream",
     "text": [
      "S {'A'}\n",
      "A {'BAB', 'aA', 'Ba'}\n",
      "B {'b'}\n"
     ]
    }
   ],
   "source": [
    "r0 = Rule(\"S\", \"A\")\n",
    "r1 = Rule(\"A\", \"Ba\")\n",
    "r2 = Rule(\"B\", \"b\")\n",
    "r3 = Rule(\"A\", \"aA\")\n",
    "r4 = Rule(\"A\", \"BAB\")\n",
    "\n",
    "G = Grammar()\n",
    "G.add_rule(r0)\n",
    "G.add_rule(r1)\n",
    "G.add_rule(r2)\n",
    "G.add_rule(r3)\n",
    "G.add_rule(r4)\n",
    "for rule in G.rules:\n",
    "    print(rule, G.rules[rule])"
   ]
  },
  {
   "cell_type": "code",
   "execution_count": 7,
   "metadata": {},
   "outputs": [],
   "source": [
    "def convert(word):\n",
    "    ans = \"\"\n",
    "    for w in word:\n",
    "        ans += \"<\" + w + \">\"\n",
    "    return ans"
   ]
  },
  {
   "cell_type": "code",
   "execution_count": 13,
   "metadata": {},
   "outputs": [],
   "source": [
    "def is_final(word):\n",
    "    return all([is_terminal(char) for char in word])\n",
    "\n",
    "\n",
    "maxdepth = 10\n",
    "def Exp(grammar, cur, pos, cur_depth, words):\n",
    "    if pos == len(cur) or cur_depth == maxdepth:\n",
    "        return\n",
    "    if is_final(cur):\n",
    "        words.append(cur)\n",
    "        return\n",
    "    if is_nonterminal(cur[pos]):\n",
    "        for rhs in grammar.rules[cur[pos]]:\n",
    "            Exp(grammar, cur[:pos] + rhs + cur[pos + 1:], 0, cur_depth + 1, words)\n",
    "    else:\n",
    "        Exp(grammar, cur, pos + 1, cur_depth, words)\n",
    "        \n",
    "Gwords = []\n",
    "Exp(G, \"S\", 0, 0, Gwords)"
   ]
  },
  {
   "cell_type": "code",
   "execution_count": 5,
   "metadata": {},
   "outputs": [],
   "source": [
    "filename = \"../tests/test_rbs/test_simple1.txt\"\n",
    "with open(filename, 'a') as file:\n",
    "  for word in Gwords:\n",
    "    file.write(f'{convert(seq)} ::= {int(check_cbs(seq))}\\n')"
   ]
  }
 ],
 "metadata": {
  "kernelspec": {
   "display_name": "Python 3",
   "language": "python",
   "name": "python3"
  },
  "language_info": {
   "codemirror_mode": {
    "name": "ipython",
    "version": 3
   },
   "file_extension": ".py",
   "mimetype": "text/x-python",
   "name": "python",
   "nbconvert_exporter": "python",
   "pygments_lexer": "ipython3",
   "version": "3.10.6"
  },
  "orig_nbformat": 4
 },
 "nbformat": 4,
 "nbformat_minor": 2
}
