{
 "cells": [
  {
   "cell_type": "code",
   "execution_count": 2,
   "metadata": {},
   "outputs": [],
   "source": [
    "def convert(word):\n",
    "    ans = \"\"\n",
    "    for w in word:\n",
    "        ans += \"<\" + w + \">\"\n",
    "    return ans\n",
    "\n",
    "\n",
    "def check_cbs(bs):\n",
    "    stack = []\n",
    "    for char in bs:\n",
    "        if char == '(':\n",
    "            stack.append(char)\n",
    "        elif char == ')':\n",
    "            if not stack:\n",
    "                return False\n",
    "            stack.pop()\n",
    "    return not stack"
   ]
  },
  {
   "cell_type": "code",
   "execution_count": 3,
   "metadata": {},
   "outputs": [],
   "source": [
    "from random import *\n",
    "\n",
    "def generate_bracket_sequence(len):\n",
    "    for mask in range(0, (1 << len)):\n",
    "        cur_word = \"\"\n",
    "        for i in range(len):\n",
    "            if (mask & (1 << i)):\n",
    "                cur_word += \")\"\n",
    "            else:\n",
    "                cur_word += \"(\"\n",
    "        yield cur_word\n",
    "        \n",
    "def generate_random_bracket_sequence(len):\n",
    "    while True:\n",
    "        ans = \"\"\n",
    "        for i in range(len):\n",
    "            if randint(0, 100) % 2 == 0:\n",
    "                ans += \"(\"\n",
    "            else:\n",
    "                ans += \")\"\n",
    "        yield ans\n",
    "        \n",
    "def generate_correct_bracket_sequence(seq_len):\n",
    "    def _generate(sequence, open_count, close_count):\n",
    "        if len(sequence) == seq_len:\n",
    "            yield sequence\n",
    "            return\n",
    "        if open_count < seq_len // 2:\n",
    "            yield from _generate(sequence + '(', open_count + 1, close_count)\n",
    "        if close_count < open_count:\n",
    "            yield from _generate(sequence + ')', open_count, close_count + 1)\n",
    "\n",
    "    yield from _generate('', 0, 0)\n"
   ]
  },
  {
   "cell_type": "code",
   "execution_count": 4,
   "metadata": {},
   "outputs": [],
   "source": [
    "filename = \"../tests/test_rbs/test_words.txt\"\n",
    "with open(filename, 'w') as file:\n",
    "  for seq_len in [2, 4, 6, 8, 10]:\n",
    "    for seq in generate_bracket_sequence(seq_len):\n",
    "      file.write(f'{convert(seq)} ::= {int(check_cbs(seq))}\\n')"
   ]
  },
  {
   "cell_type": "code",
   "execution_count": 5,
   "metadata": {},
   "outputs": [],
   "source": [
    "filename = \"../tests/test_big/test_words.txt\"\n",
    "with open(filename, 'w') as file:\n",
    "  seq_len = 100\n",
    "  generator_random = generate_random_bracket_sequence(seq_len)\n",
    "  for _ in range(10):\n",
    "    big_bs = next(generator_random)\n",
    "    file.write(f'{convert(big_bs)} ::= {int(check_cbs(big_bs))}\\n')\n",
    "  \n",
    "  generator_right = generate_correct_bracket_sequence(seq_len)\n",
    "  for _ in range(10):\n",
    "    big_bs = next(generator_right)\n",
    "    file.write(f'{convert(big_bs)} ::= {int(check_cbs(big_bs))}\\n')"
   ]
  },
  {
   "cell_type": "code",
   "execution_count": null,
   "metadata": {},
   "outputs": [],
   "source": []
  }
 ],
 "metadata": {
  "kernelspec": {
   "display_name": "Python 3",
   "language": "python",
   "name": "python3"
  },
  "language_info": {
   "codemirror_mode": {
    "name": "ipython",
    "version": 3
   },
   "file_extension": ".py",
   "mimetype": "text/x-python",
   "name": "python",
   "nbconvert_exporter": "python",
   "pygments_lexer": "ipython3",
   "version": "3.10.6"
  },
  "orig_nbformat": 4
 },
 "nbformat": 4,
 "nbformat_minor": 2
}
